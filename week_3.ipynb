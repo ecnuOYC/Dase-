{
 "cells": [
  {
   "cell_type": "code",
   "execution_count": 1,
   "id": "0626515c-373b-4fc9-8117-05d3a059981d",
   "metadata": {},
   "outputs": [
    {
     "name": "stdout",
     "output_type": "stream",
     "text": [
      "★\n",
      "数据科学与工程导论\n",
      "★\n"
     ]
    }
   ],
   "source": [
    "print(chr(0x2605))\n",
    "print(\"数据科学与工程导论\")\n",
    "print(chr(0x2605))"
   ]
  },
  {
   "cell_type": "code",
   "execution_count": 2,
   "id": "4052f36e-b6c7-4f1b-b1c9-dc3d10300266",
   "metadata": {},
   "outputs": [
    {
     "name": "stdin",
     "output_type": "stream",
     "text": [
      " 3\n",
      " 2\n",
      " 1\n"
     ]
    },
    {
     "name": "stdout",
     "output_type": "stream",
     "text": [
      "1   2   3\n"
     ]
    }
   ],
   "source": [
    "x=int(input())\n",
    "y=int(input())\n",
    "z=int(input())\n",
    "if x>y:\n",
    "    t=x\n",
    "    x=y\n",
    "    y=t\n",
    "if y>z:\n",
    "    t=y\n",
    "    y=z\n",
    "    z=t\n",
    "if x>y:\n",
    "    t=x\n",
    "    x=y\n",
    "    y=t\n",
    "print(x,' ',y,' ',z)"
   ]
  },
  {
   "cell_type": "code",
   "execution_count": 3,
   "id": "2c9c3241-fc6f-4762-8c48-9293cf0f1f3a",
   "metadata": {},
   "outputs": [
    {
     "name": "stdin",
     "output_type": "stream",
     "text": [
      " 1\n",
      " 2\n",
      " 3\n",
      " 4\n"
     ]
    },
    {
     "name": "stdout",
     "output_type": "stream",
     "text": [
      "4   3   2   1\n"
     ]
    }
   ],
   "source": [
    "num=[0,0,0,0]\n",
    "num[0]=int(input())\n",
    "num[1]=int(input())\n",
    "num[2]=int(input())\n",
    "num[3]=int(input())\n",
    "for i in range(0,3):\n",
    "    for j in range(0,3-i):\n",
    "        if num[j]<num[j+1]:\n",
    "            t=num[j]\n",
    "            num[j]=num[j+1]\n",
    "            num[j+1]=t\n",
    "print(num[0],' ',num[1],' ',num[2],' ',num[3])"
   ]
  },
  {
   "cell_type": "code",
   "execution_count": 4,
   "id": "3086cd64-677d-4fb2-9b93-eb8d3a5e9091",
   "metadata": {},
   "outputs": [
    {
     "name": "stdout",
     "output_type": "stream",
     "text": [
      "1\n",
      "3\n",
      "5\n",
      "7\n",
      "9\n",
      "11\n",
      "13\n",
      "15\n",
      "17\n",
      "19\n",
      "21\n",
      "23\n",
      "25\n",
      "27\n",
      "29\n",
      "31\n",
      "33\n",
      "35\n",
      "37\n",
      "39\n",
      "41\n",
      "43\n",
      "45\n",
      "47\n",
      "49\n",
      "51\n",
      "53\n",
      "55\n",
      "57\n",
      "59\n",
      "61\n",
      "63\n",
      "65\n",
      "67\n",
      "69\n",
      "71\n",
      "73\n",
      "75\n",
      "77\n",
      "79\n",
      "81\n",
      "83\n",
      "85\n",
      "87\n",
      "89\n",
      "91\n",
      "93\n",
      "95\n",
      "97\n",
      "99\n"
     ]
    }
   ],
   "source": [
    "for i in range(1,101):\n",
    "    if i%2==1:\n",
    "        print(i)"
   ]
  },
  {
   "cell_type": "code",
   "execution_count": 5,
   "id": "e4ee3505-3d68-4b8e-81cd-0f313248e681",
   "metadata": {},
   "outputs": [
    {
     "name": "stdout",
     "output_type": "stream",
     "text": [
      "5050\n"
     ]
    }
   ],
   "source": [
    "sum=0\n",
    "for i in range(1,101):\n",
    "    sum+=i\n",
    "print(sum)"
   ]
  },
  {
   "cell_type": "code",
   "execution_count": 6,
   "id": "ecf9dfc6-fe5e-4413-8aa8-68bfd26731e8",
   "metadata": {},
   "outputs": [
    {
     "name": "stdin",
     "output_type": "stream",
     "text": [
      "请输入列表元素，以逗号分隔： 1,2,3,4,5\n"
     ]
    },
    {
     "name": "stdout",
     "output_type": "stream",
     "text": [
      "[5, 4, 3, 2, 1]\n"
     ]
    }
   ],
   "source": [
    "input_str = input(\"请输入列表元素，以逗号分隔：\")\n",
    "old_list = list(input_str.split(\",\"))\n",
    "middle_list=[int(i) for i in old_list]\n",
    "middle_list.reverse()\n",
    "print(middle_list)"
   ]
  },
  {
   "cell_type": "code",
   "execution_count": 7,
   "id": "05f04b42-30e7-4e39-9030-288ae7dc6740",
   "metadata": {},
   "outputs": [
    {
     "name": "stdin",
     "output_type": "stream",
     "text": [
      " qwerqwrettewfrwe\n"
     ]
    },
    {
     "name": "stdout",
     "output_type": "stream",
     "text": [
      "包含连续相同字母\n"
     ]
    }
   ],
   "source": [
    "s=input()\n",
    "num=len(s)\n",
    "flag=False\n",
    "for i in range(0,num-1):\n",
    "    if s[i]==s[i+1]:\n",
    "        flag=True\n",
    "        break\n",
    "if flag:\n",
    "    print(\"包含连续相同字母\")\n",
    "else:\n",
    "    print(\"不包含连续相同字母\")"
   ]
  },
  {
   "cell_type": "code",
   "execution_count": 8,
   "id": "2fb3a465-f80f-4836-b22b-90d1b4e2f593",
   "metadata": {},
   "outputs": [
    {
     "name": "stdin",
     "output_type": "stream",
     "text": [
      " a sdad asdfsdf asd\n"
     ]
    },
    {
     "name": "stdout",
     "output_type": "stream",
     "text": [
      "asdadasdfsdfasd\n"
     ]
    }
   ],
   "source": [
    "s=input()\n",
    "print(s.replace(\" \",\"\"))"
   ]
  },
  {
   "cell_type": "code",
   "execution_count": 9,
   "id": "4266423b-bf60-4935-bd8e-c7ca6b5f5168",
   "metadata": {},
   "outputs": [
    {
     "name": "stdin",
     "output_type": "stream",
     "text": [
      " 8\n"
     ]
    },
    {
     "name": "stdout",
     "output_type": "stream",
     "text": [
      "2.0\n"
     ]
    }
   ],
   "source": [
    "s=float(input())\n",
    "a=s\n",
    "for i in range(0,100):\n",
    "    a=a-(a*a*a-s)/(3*a*a)\n",
    "print(a)"
   ]
  },
  {
   "cell_type": "code",
   "execution_count": 10,
   "id": "9b61202c-da53-4767-bfeb-0a1ee397d5c9",
   "metadata": {},
   "outputs": [
    {
     "name": "stdin",
     "output_type": "stream",
     "text": [
      " 5\n"
     ]
    },
    {
     "name": "stdout",
     "output_type": "stream",
     "text": [
      "120\n"
     ]
    }
   ],
   "source": [
    "s=int(input())\n",
    "result=1\n",
    "for i in range(1,s+1):\n",
    "    result*=i\n",
    "print(result)"
   ]
  },
  {
   "cell_type": "code",
   "execution_count": null,
   "id": "a9a4f289-6874-4a78-a993-1cb85f859bad",
   "metadata": {},
   "outputs": [],
   "source": []
  }
 ],
 "metadata": {
  "kernelspec": {
   "display_name": "Python 3 (ipykernel)",
   "language": "python",
   "name": "python3"
  },
  "language_info": {
   "codemirror_mode": {
    "name": "ipython",
    "version": 3
   },
   "file_extension": ".py",
   "mimetype": "text/x-python",
   "name": "python",
   "nbconvert_exporter": "python",
   "pygments_lexer": "ipython3",
   "version": "3.11.7"
  }
 },
 "nbformat": 4,
 "nbformat_minor": 5
}
