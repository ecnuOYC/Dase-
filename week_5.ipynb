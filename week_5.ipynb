{
 "cells": [
  {
   "cell_type": "code",
   "execution_count": 1,
   "id": "6d4f8d0b-7877-454e-bd03-bee6463f42d9",
   "metadata": {},
   "outputs": [
    {
     "name": "stdin",
     "output_type": "stream",
     "text": [
      " 24\n",
      " 30\n"
     ]
    },
    {
     "name": "stdout",
     "output_type": "stream",
     "text": [
      "6\n"
     ]
    }
   ],
   "source": [
    "import os\n",
    "a=int(input())\n",
    "b=int(input())\n",
    "c=a\n",
    "d=1\n",
    "if b>a:\n",
    "    c=b\n",
    "for i in  range(2,c+1):\n",
    "    if int(a/i)*i==a and int(b/i)*i==b:\n",
    "        d=i\n",
    "print(d)"
   ]
  },
  {
   "cell_type": "code",
   "execution_count": 2,
   "id": "2078ef20-b125-42e2-95f5-0caa0d4de98f",
   "metadata": {},
   "outputs": [
    {
     "name": "stdin",
     "output_type": "stream",
     "text": [
      " 76\n"
     ]
    },
    {
     "name": "stdout",
     "output_type": "stream",
     "text": [
      "良好\n"
     ]
    }
   ],
   "source": [
    "score=int(input())\n",
    "if score>=90:\n",
    "    print('优秀')\n",
    "elif score>=75:\n",
    "    print('良好')\n",
    "elif score>=60:\n",
    "    print('合格')\n",
    "else:\n",
    "    print('不合格')"
   ]
  },
  {
   "cell_type": "code",
   "execution_count": 3,
   "id": "5801f46e-dd02-4e52-a7e0-d47aaa105ddc",
   "metadata": {},
   "outputs": [
    {
     "name": "stdin",
     "output_type": "stream",
     "text": [
      " 1.5\n"
     ]
    },
    {
     "name": "stdout",
     "output_type": "stream",
     "text": [
      "1.1\n"
     ]
    }
   ],
   "source": [
    "f=float(input())\n",
    "a=int(f)\n",
    "b=f-a\n",
    "str1=''\n",
    "str2=''\n",
    "\n",
    "c=a%2\n",
    "a=int(a/2)\n",
    "while a!=0 or c!=0:\n",
    "    str1=str(c)+str1\n",
    "    c=a%2\n",
    "    a=int(a/2)\n",
    "\n",
    "b=b*2\n",
    "if b>=1:\n",
    "    c=1\n",
    "    b-=1\n",
    "else:\n",
    "    c=0\n",
    "while b!=0 or c!=0:\n",
    "    str2=str2+str(c)\n",
    "    b=b*2\n",
    "    if b>=1:\n",
    "        c=1\n",
    "        b-=1\n",
    "    else:\n",
    "        c=0\n",
    "print(str1+'.'+str2)"
   ]
  },
  {
   "cell_type": "code",
   "execution_count": 4,
   "id": "9f1a59c1-4010-49da-bb70-d1498221265b",
   "metadata": {
    "scrolled": true
   },
   "outputs": [
    {
     "name": "stdout",
     "output_type": "stream",
     "text": [
      "11.997156543033377\n"
     ]
    }
   ],
   "source": [
    "import random\n",
    "a=random.random()\n",
    "print(10*a+10)"
   ]
  },
  {
   "cell_type": "code",
   "execution_count": 5,
   "id": "e19400e4-7238-489a-870d-9a9fcab849b3",
   "metadata": {},
   "outputs": [
    {
     "name": "stdin",
     "output_type": "stream",
     "text": [
      " 12345654321\n"
     ]
    },
    {
     "name": "stdout",
     "output_type": "stream",
     "text": [
      "12345654321\n",
      "是回文数\n"
     ]
    }
   ],
   "source": [
    "a=int(input())\n",
    "b=str(a)\n",
    "c=b[::-1]\n",
    "d=int(c)\n",
    "print(d)\n",
    "if a==d:\n",
    "    print(\"是回文数\")\n",
    "else:\n",
    "    print(\"不是回文数\")"
   ]
  },
  {
   "cell_type": "code",
   "execution_count": 7,
   "id": "066dcecb-2903-40f0-841e-a47979c1ca6f",
   "metadata": {},
   "outputs": [
    {
     "name": "stdin",
     "output_type": "stream",
     "text": [
      " 10\n"
     ]
    },
    {
     "name": "stdout",
     "output_type": "stream",
     "text": [
      "[1, 1, 2, 3, 5, 8, 13, 21, 34, 55]\n"
     ]
    }
   ],
   "source": [
    "n=int(input())\n",
    "if n==1:\n",
    "    a=[1]\n",
    "    print(a)\n",
    "elif n==2:\n",
    "    a=[1,1]\n",
    "    print(a)\n",
    "else:\n",
    "    a=[1,1]\n",
    "    for i in range(2,n):\n",
    "        a.append(a[i-2]+a[i-1])\n",
    "    print(a)"
   ]
  },
  {
   "cell_type": "code",
   "execution_count": 8,
   "id": "e2a9546e-e9a4-4271-a823-4a22b5d5e773",
   "metadata": {},
   "outputs": [
    {
     "name": "stdin",
     "output_type": "stream",
     "text": [
      "请输入列表元素，以逗号分隔： 1,5,2,4,7,5,7\n"
     ]
    },
    {
     "name": "stdout",
     "output_type": "stream",
     "text": [
      "7\n"
     ]
    }
   ],
   "source": [
    "input_str = input(\"请输入列表元素，以逗号分隔：\")\n",
    "str_list = list(input_str.split(\",\"))\n",
    "int_list=[int(i) for i in str_list]\n",
    "if len(int_list)<=1:\n",
    "    print(-1)\n",
    "else:\n",
    "    a=int_list[0]\n",
    "    j=0\n",
    "    for i in range(1,len(int_list)):\n",
    "        if a<int_list[i]:\n",
    "            a=int_list[i]\n",
    "            j=i\n",
    "    int_list.pop(j)\n",
    "    b=int_list[0]\n",
    "    for i in int_list:\n",
    "        if b<i:\n",
    "            b=i\n",
    "    print(b)"
   ]
  },
  {
   "cell_type": "code",
   "execution_count": 9,
   "id": "5078cfbe-1d38-4a2e-b8d8-b0814e8b0a2a",
   "metadata": {},
   "outputs": [
    {
     "name": "stdin",
     "output_type": "stream",
     "text": [
      " 92099920000101000X\n"
     ]
    },
    {
     "name": "stdout",
     "output_type": "stream",
     "text": [
      "是身份证号\n"
     ]
    }
   ],
   "source": [
    "import re\n",
    "\n",
    "pattern='[1-9]\\d{5}(19|20)\\d{2}(0[1-9]|1[0-2])(0[1-9]|[1-2]\\d|3[0-1])\\d{3}(\\d|X|x)'\n",
    "\n",
    "def validate_id_card(a):\n",
    "    if re.match(pattern,a):\n",
    "        return True;\n",
    "    else:\n",
    "        return False;\n",
    "\n",
    "b=input()\n",
    "if validate_id_card(b):\n",
    "    print(\"是身份证号\")\n",
    "else:\n",
    "    print(\"不是身份证号\")"
   ]
  },
  {
   "cell_type": "code",
   "execution_count": null,
   "id": "0d58ee7c-25c1-42e9-9e42-eb31e82855e1",
   "metadata": {},
   "outputs": [],
   "source": []
  }
 ],
 "metadata": {
  "kernelspec": {
   "display_name": "Python 3 (ipykernel)",
   "language": "python",
   "name": "python3"
  },
  "language_info": {
   "codemirror_mode": {
    "name": "ipython",
    "version": 3
   },
   "file_extension": ".py",
   "mimetype": "text/x-python",
   "name": "python",
   "nbconvert_exporter": "python",
   "pygments_lexer": "ipython3",
   "version": "3.11.7"
  }
 },
 "nbformat": 4,
 "nbformat_minor": 5
}
