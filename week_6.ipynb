{
 "cells": [
  {
   "cell_type": "code",
   "execution_count": 1,
   "id": "8e121113-c319-4a5d-abb5-685fc1d3a73c",
   "metadata": {},
   "outputs": [
    {
     "name": "stdin",
     "output_type": "stream",
     "text": [
      " 30\n"
     ]
    },
    {
     "name": "stdout",
     "output_type": "stream",
     "text": [
      "不是质数\n"
     ]
    }
   ],
   "source": [
    "import math\n",
    "def check_prime(n):\n",
    "    if n<=1:\n",
    "        return False;\n",
    "    a=int(math.sqrt(n))\n",
    "    for i in range(2,a+1):\n",
    "        if int(n/i)*i==n:\n",
    "            return False\n",
    "    return True\n",
    "\n",
    "a=int(input())\n",
    "if check_prime(a):\n",
    "    print(\"是质数\")\n",
    "else:\n",
    "    print(\"不是质数\")"
   ]
  },
  {
   "cell_type": "code",
   "execution_count": 2,
   "id": "e01eb8f4-903b-4338-9e73-a94e869c2a1d",
   "metadata": {},
   "outputs": [
    {
     "name": "stdin",
     "output_type": "stream",
     "text": [
      "请输入列表元素，以逗号分隔： 3,5,7,9,8,6,4,2\n"
     ]
    },
    {
     "name": "stdout",
     "output_type": "stream",
     "text": [
      "2\n",
      "3\n",
      "4\n",
      "5\n",
      "6\n",
      "7\n",
      "8\n",
      "9\n"
     ]
    }
   ],
   "source": [
    "input_str = input(\"请输入列表元素，以逗号分隔：\")\n",
    "old_list = list(input_str.split(\",\"))\n",
    "middle_list=[int(i) for i in old_list]\n",
    "a=len(middle_list)\n",
    "for i in range(1,a):\n",
    "    for j in range(0,i):\n",
    "        if middle_list[i-j]<middle_list[i-j-1]:\n",
    "            t=middle_list[i-j]\n",
    "            middle_list[i-j]=middle_list[i-j-1]\n",
    "            middle_list[i-j-1]=t\n",
    "        else:\n",
    "            break\n",
    "for i in range(0,a):\n",
    "    print(middle_list[i])"
   ]
  },
  {
   "cell_type": "code",
   "execution_count": 3,
   "id": "2efdef16-6e40-4454-b494-0d1b21f558c6",
   "metadata": {},
   "outputs": [
    {
     "name": "stdin",
     "output_type": "stream",
     "text": [
      "请输入列表元素，以逗号分隔： 2,4,6,8,9,7,5,3,1\n"
     ]
    },
    {
     "name": "stdout",
     "output_type": "stream",
     "text": [
      "1\n",
      "2\n",
      "3\n",
      "4\n",
      "5\n",
      "6\n",
      "7\n",
      "8\n",
      "9\n"
     ]
    }
   ],
   "source": [
    "def swap(a,b):\n",
    "    return b,a\n",
    "\n",
    "def _max(arr,n):\n",
    "    i=0\n",
    "    for j in range(1,n):\n",
    "        if arr[j]>arr[i]:\n",
    "            i=j\n",
    "    return i\n",
    "\n",
    "input_str = input(\"请输入列表元素，以逗号分隔：\")\n",
    "old_list = list(input_str.split(\",\"))\n",
    "middle_list=[int(i) for i in old_list]\n",
    "a=len(middle_list)\n",
    "for i in range(1,a):\n",
    "    j=a-i\n",
    "    k=_max(middle_list,j+1)\n",
    "    middle_list[k],middle_list[j]=swap(middle_list[k],middle_list[j])\n",
    "\n",
    "for i in range(0,a):\n",
    "    print(middle_list[i])"
   ]
  },
  {
   "cell_type": "code",
   "execution_count": 4,
   "id": "a942b7ca-52bc-4862-8a54-1a699fc09620",
   "metadata": {},
   "outputs": [
    {
     "name": "stdin",
     "output_type": "stream",
     "text": [
      "请输入列表元素，以逗号分隔： 2,4,6,8,9,7,5,3,1\n"
     ]
    },
    {
     "name": "stdout",
     "output_type": "stream",
     "text": [
      "1\n",
      "2\n",
      "3\n",
      "4\n",
      "5\n",
      "6\n",
      "7\n",
      "8\n",
      "9\n"
     ]
    }
   ],
   "source": [
    "def jump(arr,j,i):\n",
    "    for k in range (0,j-i):\n",
    "        arr[j-k],arr[j-1-k]=swap(arr[j-k],arr[j-1-k])\n",
    "\n",
    "def rapid(arr,min,max):\n",
    "    if min<max:\n",
    "        a=0\n",
    "        x=arr[min]\n",
    "        for i in range(min+1,max+1):\n",
    "            if arr[i]<x:\n",
    "                jump(arr,i,min)\n",
    "                a+=1\n",
    "        arr=rapid(arr,min,min+a-1)\n",
    "        arr=rapid(arr,min+a+1,max)\n",
    "    return arr\n",
    "\n",
    "input_str = input(\"请输入列表元素，以逗号分隔：\")\n",
    "old_list = list(input_str.split(\",\"))\n",
    "middle_list=[int(i) for i in old_list]\n",
    "a=len(middle_list)\n",
    "rapid(middle_list,0,a-1)\n",
    "\n",
    "for i in range(0,a):\n",
    "    print(middle_list[i])"
   ]
  },
  {
   "cell_type": "code",
   "execution_count": 5,
   "id": "0ec0f475-a2d8-4534-8117-a5921451c5bd",
   "metadata": {},
   "outputs": [
    {
     "name": "stdout",
     "output_type": "stream",
     "text": [
      "插入排序100: 0.0070035457611083984 秒\n",
      "选择排序1000: 0.003998756408691406 秒\n",
      "快速排序10000: 22.623997449874878 秒\n"
     ]
    }
   ],
   "source": [
    "import random\n",
    "import time\n",
    "\n",
    "start=time.time()\n",
    "x=[]\n",
    "for i in range(0,100):\n",
    "    x.append(random.randint(0,100))\n",
    "for i in range(1,100):\n",
    "    for j in range(0,i):\n",
    "        if x[i-j]<x[i-j-1]:\n",
    "            t=x[i-j]\n",
    "            x[i-j]=x[i-j-1]\n",
    "            x[i-j-1]=t\n",
    "        else:\n",
    "            break\n",
    "end=time.time()\n",
    "print('插入排序100: %s 秒'%(end-start))\n",
    "\n",
    "start=time.time()\n",
    "x=[]\n",
    "for i in range(0,1000):\n",
    "    x.append(random.randint(0,1000))\n",
    "    \n",
    "for i in range(1,1000):\n",
    "    j=a-i\n",
    "    k=_max(x,j+1)\n",
    "    x[k],x[j]=swap(x[k],x[j])\n",
    "\n",
    "end=time.time()\n",
    "print('选择排序1000: %s 秒'%(end-start))\n",
    "\n",
    "start=time.time()\n",
    "x=[]\n",
    "for i in range(0,10000):\n",
    "    x.append(random.randint(0,10000))\n",
    "    \n",
    "rapid(x,0,9999)\n",
    "\n",
    "end=time.time()\n",
    "print('快速排序10000: %s 秒'%(end-start))"
   ]
  },
  {
   "cell_type": "code",
   "execution_count": 6,
   "id": "0805e835-7e2b-43c7-aa8f-78b2ddacc71e",
   "metadata": {},
   "outputs": [
    {
     "name": "stdout",
     "output_type": "stream",
     "text": [
      "2024-10-15 17:05:57.237358\n"
     ]
    }
   ],
   "source": [
    "from datetime import datetime\n",
    "a=datetime.now()\n",
    "print(a)"
   ]
  },
  {
   "cell_type": "code",
   "execution_count": 9,
   "id": "63814e15-bb44-4ce5-b154-c232aecabbd4",
   "metadata": {},
   "outputs": [
    {
     "name": "stdout",
     "output_type": "stream",
     "text": [
      "语文平均成绩为82.60\n",
      "数学平均成绩为81.00\n",
      "英语平均成绩为81.80\n"
     ]
    }
   ],
   "source": [
    "f = open(\"./stuGrade.csv\", 'r')\n",
    "a=[]\n",
    "for i in range(0,6):\n",
    "    input_str = f.readline()\n",
    "    old_list = list(input_str.split(\",\"))\n",
    "    a.append(old_list)\n",
    "cs=0.0\n",
    "ms=0.0\n",
    "es=0.0\n",
    "for i in range(1,6):\n",
    "    cs+=int(a[i][1])\n",
    "    ms+=int(a[i][2])\n",
    "    es+=int(a[i][3])\n",
    "cs/=5\n",
    "ms/=5\n",
    "es/=5\n",
    "print(\"语文平均成绩为%.2lf\"%cs)\n",
    "print(\"数学平均成绩为%.2lf\"%ms)\n",
    "print(\"英语平均成绩为%.2lf\"%es)"
   ]
  },
  {
   "cell_type": "code",
   "execution_count": 1,
   "id": "be29f1f4-b90d-47bd-bee8-e3b65d279a8e",
   "metadata": {},
   "outputs": [
    {
     "name": "stdout",
     "output_type": "stream",
     "text": [
      "语文平均成绩为82.60\n",
      "数学平均成绩为81.00\n",
      "英语平均成绩为81.80\n"
     ]
    }
   ],
   "source": [
    "import sys\n",
    "import codecs\n",
    "import time\n",
    "\n",
    "f = open(\"./stuGrade.csv\", 'r')\n",
    "ff = codecs.open(\"./my.txt\", 'w',\"utf-8\")\n",
    "a=[]\n",
    "for i in range(0,6):\n",
    "    input_str = f.readline()\n",
    "    old_list = list(input_str.split(\",\"))\n",
    "    a.append(old_list)\n",
    "cs=0.0\n",
    "ms=0.0\n",
    "es=0.0\n",
    "for i in range(1,6):\n",
    "    cs+=int(a[i][1])\n",
    "    ms+=int(a[i][2])\n",
    "    es+=int(a[i][3])\n",
    "cs/=5\n",
    "ms/=5\n",
    "es/=5\n",
    "print(\"语文平均成绩为%.2lf\"%cs)\n",
    "print(\"数学平均成绩为%.2lf\"%ms)\n",
    "print(\"英语平均成绩为%.2lf\"%es)\n",
    "\n",
    "name=\"欧阳诚\"\n",
    "no=\"10235501468\"\n",
    "a=time.strftime('%Y-%m-%d %H:%M:%S', time.localtime(time.time()))\n",
    "time.sleep(2)\n",
    "b=time.strftime('%Y-%m-%d %H:%M:%S', time.localtime(time.time()))\n",
    "\n",
    "ff.writelines(\"学号：\")\n",
    "ff.writelines(no)\n",
    "ff.writelines(\" 姓名：\")\n",
    "ff.writelines(name)\n",
    "ff.writelines(\"\\n\")\n",
    "ff.writelines(\"%.2lf \"%cs)\n",
    "ff.writelines(\"%.2lf \"%ms)\n",
    "ff.writelines(\"%.2lf\\n\"%es)\n",
    "ff.writelines(a)\n",
    "ff.writelines(\"\\n\")\n",
    "ff.writelines(b)\n",
    "ff.writelines(\"\\n\")\n",
    "f.close()\n",
    "ff.close()"
   ]
  },
  {
   "cell_type": "code",
   "execution_count": null,
   "id": "6815eb88-2a27-499f-8fdc-de21bfe635d8",
   "metadata": {},
   "outputs": [],
   "source": []
  }
 ],
 "metadata": {
  "kernelspec": {
   "display_name": "Python 3 (ipykernel)",
   "language": "python",
   "name": "python3"
  },
  "language_info": {
   "codemirror_mode": {
    "name": "ipython",
    "version": 3
   },
   "file_extension": ".py",
   "mimetype": "text/x-python",
   "name": "python",
   "nbconvert_exporter": "python",
   "pygments_lexer": "ipython3",
   "version": "3.11.7"
  }
 },
 "nbformat": 4,
 "nbformat_minor": 5
}
